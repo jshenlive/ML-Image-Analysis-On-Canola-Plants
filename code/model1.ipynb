{
 "cells": [
  {
   "cell_type": "code",
   "execution_count": null,
   "metadata": {},
   "outputs": [],
   "source": [
    "import os\n",
    "import cv2\n",
    "import numpy as np\n",
    "import csv"
   ]
  },
  {
   "cell_type": "code",
   "execution_count": 14,
   "metadata": {},
   "outputs": [],
   "source": [
    "def process_image_batch(input_dir, crop_coords, output_dir='masks', csv_filename='pixel_counts.csv'):\n",
    "    # Ensure the output directory exists\n",
    "    os.makedirs(output_dir, exist_ok=True)\n",
    "\n",
    "    # Get crop coordinates based on one sample image\n",
    "    original_image_path = os.path.join(input_dir, os.listdir(input_dir)[0])\n",
    "    \n",
    "    \n",
    "    x_start, y_start, x_end, y_end = crop_coords\n",
    "\n",
    "    # Initialize the CSV file\n",
    "    with open(csv_filename, mode='w', newline='') as csv_file:\n",
    "        writer = csv.writer(csv_file)\n",
    "        writer.writerow(['File Name', 'Pixel Count'])\n",
    "\n",
    "        # Iterate over each file in the input directory\n",
    "        for filename in os.listdir(input_dir):\n",
    "            if filename.endswith('.jpg') or filename.endswith('.png'):\n",
    "                image_path = os.path.join(input_dir, filename)\n",
    "                status = process_single_image(image_path, output_dir, writer, (x_start, y_start, x_end, y_end))\n",
    "                print(f\"Processed {filename}: {status}\")\n",
    "\n",
    "def process_single_image(image_path, output_dir, csv_writer, crop_coords):\n",
    "    x_start, y_start, x_end, y_end = crop_coords\n",
    "    \n",
    "    # Read and crop the image\n",
    "    image = cv2.imread(image_path)\n",
    "    if image is None:\n",
    "        return \"Failed to load image\"\n",
    "    \n",
    "    # Apply cropping\n",
    "    cropped_image = image[y_start:y_end, x_start:x_end]\n",
    "    \n",
    "    # Convert BGR to HSV\n",
    "    hsv_image = cv2.cvtColor(cropped_image, cv2.COLOR_BGR2HSV)\n",
    "\n",
    "    # Define the HSV ranges for green, yellow, and tan colors\n",
    "    lower_green, upper_green = (35, 40, 40), (85, 255, 255)\n",
    "    lower_yellow, upper_yellow = (20, 40, 40), (35, 255, 255)\n",
    "    \n",
    "    tan_bgr = np.uint8([[[103, 137, 157]]])\n",
    "    tan_hsv = cv2.cvtColor(tan_bgr, cv2.COLOR_BGR2HSV)\n",
    "    \n",
    "    # Use the tan HSV value to define a range around it\n",
    "    hue = int(tan_hsv[0][0][0])\n",
    "    sat = int(tan_hsv[0][0][1])\n",
    "    val = int(tan_hsv[0][0][2])\n",
    "\n",
    "    # Define the lower and upper ranges for the tan color\n",
    "    lower_tan = (hue - 10, max(0, sat - 40), int(0.35 * 255))  # Ensure values don't go below 0\n",
    "    upper_tan = (hue + 10, min(255, sat + 40), int(0.72 * 255))  # Ensure values don't exceed 255\n",
    "\n",
    "    # Create masks\n",
    "    green_mask = cv2.inRange(hsv_image, lower_green, upper_green)\n",
    "    yellow_mask = cv2.inRange(hsv_image, lower_yellow, upper_yellow)\n",
    "    tan_mask = cv2.inRange(hsv_image, lower_tan, upper_tan)\n",
    "    \n",
    "    mask_combined = cv2.bitwise_or(cv2.bitwise_or(green_mask, yellow_mask), tan_mask)\n",
    "\n",
    "    # Clean the mask using morphological operations\n",
    "    kernel = cv2.getStructuringElement(cv2.MORPH_ELLIPSE, (5, 5))\n",
    "    mask_clean = cv2.morphologyEx(mask_combined, cv2.MORPH_OPEN, kernel)\n",
    "\n",
    "    # Filter contours by size\n",
    "    contours, _ = cv2.findContours(mask_clean, cv2.RETR_EXTERNAL, cv2.CHAIN_APPROX_SIMPLE)\n",
    "    filtered_mask = np.zeros_like(mask_clean)\n",
    "    min_size = 3500\n",
    "    for cnt in contours:\n",
    "        if cv2.contourArea(cnt) >= min_size:\n",
    "            temp_mask = np.zeros_like(mask_clean)\n",
    "            cv2.drawContours(temp_mask, [cnt], 0, 255, -1)\n",
    "            filtered_mask = cv2.bitwise_or(filtered_mask, cv2.bitwise_and(temp_mask, mask_clean))\n",
    "\n",
    "    # Save the binary filtered mask image\n",
    "    mask_filename = os.path.join(output_dir, os.path.splitext(os.path.basename(image_path))[0] + '_mask.png')\n",
    "    cv2.imwrite(mask_filename, filtered_mask)\n",
    "\n",
    "    # Count annotated pixels and write to CSV\n",
    "    filename_without_extension = os.path.splitext(os.path.basename(image_path))[0]\n",
    "    annotated_pixel_count = np.count_nonzero(filtered_mask)\n",
    "    csv_writer.writerow([filename_without_extension, annotated_pixel_count])\n",
    "\n",
    "    return \"Success\"\n"
   ]
  },
  {
   "cell_type": "code",
   "execution_count": null,
   "metadata": {},
   "outputs": [],
   "source": []
  },
  {
   "cell_type": "code",
   "execution_count": 29,
   "metadata": {},
   "outputs": [
    {
     "name": "stdout",
     "output_type": "stream",
     "text": [
      "Processed 20240503_094657.jpg: Success\n",
      "Processed 20240503_094454.jpg: Success\n",
      "Processed 20240503_094245.jpg: Success\n",
      "Processed 20240503_095200.jpg: Success\n",
      "Processed 20240503_094608.jpg: Success\n",
      "Processed 20240503_094437.jpg: Success\n",
      "Processed 20240503_094418.jpg: Success\n",
      "Processed 20240503_094801.jpg: Success\n",
      "Processed 20240503_094143.jpg: Success\n",
      "Processed 20240503_094359.jpg: Success\n",
      "Processed 20240503_094628.jpg: Success\n",
      "Processed 20240503_095246.jpg: Success\n",
      "Processed 20240503_132614.jpg: Success\n",
      "Processed 20240503_094159.jpg: Success\n",
      "Processed 20240503_095045.jpg: Success\n",
      "Processed 20240503_132228.jpg: Success\n",
      "Processed 20240503_133120.jpg: Success\n",
      "Processed 20240503_132404.jpg: Success\n",
      "Processed 20240503_094918.jpg: Success\n",
      "Processed 20240503_133225.jpg: Success\n",
      "Processed 20240503_133025.jpg: Success\n",
      "Processed 20240503_095026.jpg: Success\n",
      "Processed 20240503_132514.jpg: Success\n",
      "Processed 20240503_132854.jpg: Success\n",
      "Processed 20240503_094301.jpg: Success\n",
      "Processed 20240503_094317.jpg: Success\n",
      "Processed 20240503_132711.jpg: Success\n",
      "Processed 20240503_094840.jpg: Success\n",
      "Processed 20240503_132936.jpg: Success\n",
      "Processed 20240503_094511.jpg: Success\n"
     ]
    }
   ],
   "source": [
    "# Crop Cood (x_start, y_start, x_end, y_end)\n",
    "crop_coords = (136, 850, 2887, 3700)\n",
    "process_image_batch(input_dir='/Users/jshen/Library/CloudStorage/OneDrive-UniversityofManitoba/General - Whyard - Machine Learning/PHOTOS for AI Machine Learning/April 2024 assay/May 03 2024 - Day 14', crop_coords=crop_coords, output_dir='masks_day_14', csv_filename='pixel_counts_day_14.csv')"
   ]
  },
  {
   "cell_type": "code",
   "execution_count": 8,
   "metadata": {},
   "outputs": [
    {
     "name": "stdout",
     "output_type": "stream",
     "text": [
      "Processed 20240419_131423.jpg: Success with :/Users/jshen/Library/CloudStorage/OneDrive-UniversityofManitoba/General - Whyard - Machine Learning/PHOTOS for AI Machine Learning/April 2024 assay/April 19 2024 - Day 0/20240419_131423.jpg\n",
      "Processed 20240419_104301.jpg: Success with :/Users/jshen/Library/CloudStorage/OneDrive-UniversityofManitoba/General - Whyard - Machine Learning/PHOTOS for AI Machine Learning/April 2024 assay/April 19 2024 - Day 0/20240419_104301.jpg\n",
      "Processed 20240419_104711.jpg: Success with :/Users/jshen/Library/CloudStorage/OneDrive-UniversityofManitoba/General - Whyard - Machine Learning/PHOTOS for AI Machine Learning/April 2024 assay/April 19 2024 - Day 0/20240419_104711.jpg\n",
      "Processed 20240419_104658.jpg: Success with :/Users/jshen/Library/CloudStorage/OneDrive-UniversityofManitoba/General - Whyard - Machine Learning/PHOTOS for AI Machine Learning/April 2024 assay/April 19 2024 - Day 0/20240419_104658.jpg\n",
      "Processed 20240419_140218.jpg: Success with :/Users/jshen/Library/CloudStorage/OneDrive-UniversityofManitoba/General - Whyard - Machine Learning/PHOTOS for AI Machine Learning/April 2024 assay/April 19 2024 - Day 0/20240419_140218.jpg\n",
      "Processed 20240419_131636.jpg: Success with :/Users/jshen/Library/CloudStorage/OneDrive-UniversityofManitoba/General - Whyard - Machine Learning/PHOTOS for AI Machine Learning/April 2024 assay/April 19 2024 - Day 0/20240419_131636.jpg\n",
      "Processed 20240419_142155.jpg: Success with :/Users/jshen/Library/CloudStorage/OneDrive-UniversityofManitoba/General - Whyard - Machine Learning/PHOTOS for AI Machine Learning/April 2024 assay/April 19 2024 - Day 0/20240419_142155.jpg\n",
      "Processed 20240419_131805.jpg: Success with :/Users/jshen/Library/CloudStorage/OneDrive-UniversityofManitoba/General - Whyard - Machine Learning/PHOTOS for AI Machine Learning/April 2024 assay/April 19 2024 - Day 0/20240419_131805.jpg\n",
      "Processed 20240419_131756.jpg: Success with :/Users/jshen/Library/CloudStorage/OneDrive-UniversityofManitoba/General - Whyard - Machine Learning/PHOTOS for AI Machine Learning/April 2024 assay/April 19 2024 - Day 0/20240419_131756.jpg\n"
     ]
    },
    {
     "ename": "KeyboardInterrupt",
     "evalue": "",
     "output_type": "error",
     "traceback": [
      "\u001b[0;31m---------------------------------------------------------------------------\u001b[0m",
      "\u001b[0;31mKeyboardInterrupt\u001b[0m                         Traceback (most recent call last)",
      "Cell \u001b[0;32mIn[8], line 2\u001b[0m\n\u001b[1;32m      1\u001b[0m \u001b[38;5;66;03m# Usage\u001b[39;00m\n\u001b[0;32m----> 2\u001b[0m \u001b[43mprocess_image_batch\u001b[49m\u001b[43m(\u001b[49m\u001b[38;5;124;43m'\u001b[39;49m\u001b[38;5;124;43m/Users/jshen/Library/CloudStorage/OneDrive-UniversityofManitoba/General - Whyard - Machine Learning/PHOTOS for AI Machine Learning/April 2024 assay/April 19 2024 - Day 0\u001b[39;49m\u001b[38;5;124;43m'\u001b[39;49m\u001b[43m)\u001b[49m\n",
      "Cell \u001b[0;32mIn[6], line 19\u001b[0m, in \u001b[0;36mprocess_image_batch\u001b[0;34m(input_dir, output_dir, csv_filename)\u001b[0m\n\u001b[1;32m     17\u001b[0m \u001b[38;5;28;01mif\u001b[39;00m filename\u001b[38;5;241m.\u001b[39mendswith(\u001b[38;5;124m'\u001b[39m\u001b[38;5;124m.jpg\u001b[39m\u001b[38;5;124m'\u001b[39m) \u001b[38;5;129;01mor\u001b[39;00m filename\u001b[38;5;241m.\u001b[39mendswith(\u001b[38;5;124m'\u001b[39m\u001b[38;5;124m.png\u001b[39m\u001b[38;5;124m'\u001b[39m):\n\u001b[1;32m     18\u001b[0m     image_path \u001b[38;5;241m=\u001b[39m os\u001b[38;5;241m.\u001b[39mpath\u001b[38;5;241m.\u001b[39mjoin(input_dir, filename)\n\u001b[0;32m---> 19\u001b[0m     status \u001b[38;5;241m=\u001b[39m \u001b[43mprocess_single_image\u001b[49m\u001b[43m(\u001b[49m\u001b[43mimage_path\u001b[49m\u001b[43m,\u001b[49m\u001b[43m \u001b[49m\u001b[43moutput_dir\u001b[49m\u001b[43m,\u001b[49m\u001b[43m \u001b[49m\u001b[43mwriter\u001b[49m\u001b[43m)\u001b[49m\n\u001b[1;32m     20\u001b[0m     \u001b[38;5;28mprint\u001b[39m(\u001b[38;5;124mf\u001b[39m\u001b[38;5;124m\"\u001b[39m\u001b[38;5;124mProcessed \u001b[39m\u001b[38;5;132;01m{\u001b[39;00mfilename\u001b[38;5;132;01m}\u001b[39;00m\u001b[38;5;124m: \u001b[39m\u001b[38;5;132;01m{\u001b[39;00mstatus\u001b[38;5;132;01m}\u001b[39;00m\u001b[38;5;124m\"\u001b[39m)\n",
      "Cell \u001b[0;32mIn[6], line 24\u001b[0m, in \u001b[0;36mprocess_single_image\u001b[0;34m(image_path, output_dir, csv_writer)\u001b[0m\n\u001b[1;32m     22\u001b[0m \u001b[38;5;28;01mdef\u001b[39;00m \u001b[38;5;21mprocess_single_image\u001b[39m(image_path, output_dir, csv_writer):\n\u001b[1;32m     23\u001b[0m     \u001b[38;5;66;03m# Read the image\u001b[39;00m\n\u001b[0;32m---> 24\u001b[0m     image \u001b[38;5;241m=\u001b[39m \u001b[43mcv2\u001b[49m\u001b[38;5;241;43m.\u001b[39;49m\u001b[43mimread\u001b[49m\u001b[43m(\u001b[49m\u001b[43mimage_path\u001b[49m\u001b[43m)\u001b[49m\n\u001b[1;32m     25\u001b[0m     \u001b[38;5;28;01mif\u001b[39;00m image \u001b[38;5;129;01mis\u001b[39;00m \u001b[38;5;28;01mNone\u001b[39;00m:\n\u001b[1;32m     26\u001b[0m         \u001b[38;5;28;01mreturn\u001b[39;00m \u001b[38;5;124m\"\u001b[39m\u001b[38;5;124mFailed to load image\u001b[39m\u001b[38;5;124m\"\u001b[39m\n",
      "\u001b[0;31mKeyboardInterrupt\u001b[0m: "
     ]
    }
   ],
   "source": [
    "# Usage\n",
    "process_image_batch('/Users/jshen/Library/CloudStorage/OneDrive-UniversityofManitoba/General - Whyard - Machine Learning/PHOTOS for AI Machine Learning/April 2024 assay/April 19 2024 - Day 0')"
   ]
  }
 ],
 "metadata": {
  "kernelspec": {
   "display_name": "Python 3",
   "language": "python",
   "name": "python3"
  },
  "language_info": {
   "codemirror_mode": {
    "name": "ipython",
    "version": 3
   },
   "file_extension": ".py",
   "mimetype": "text/x-python",
   "name": "python",
   "nbconvert_exporter": "python",
   "pygments_lexer": "ipython3",
   "version": "3.9.13"
  }
 },
 "nbformat": 4,
 "nbformat_minor": 2
}
